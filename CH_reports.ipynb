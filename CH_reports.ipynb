{
 "cells": [
  {
   "cell_type": "markdown",
   "metadata": {},
   "source": [
    "# CloudHealth API Requests for Cloud Optimization Reviews"
   ]
  },
  {
   "cell_type": "markdown",
   "metadata": {},
   "source": [
    "This repo contains multiple CloudHealth request for common optimization analyses. Input your CloudHealth API token in the quotes associated with my_api_token and then input the customer ID inside the quotes associated with client_id to create strings. Make sure to run cells in order to load the variables and libraries for the API requests to utilize."
   ]
  },
  {
   "cell_type": "code",
   "execution_count": 16,
   "metadata": {},
   "outputs": [],
   "source": [
    "import requests\n",
    "import json \n",
    "import datetime\n",
    "import pandas as pd"
   ]
  },
  {
   "cell_type": "code",
   "execution_count": 8,
   "metadata": {},
   "outputs": [],
   "source": [
    "my_api_token = \"\"\n",
    "my_headers = {'Authorization': 'Bearer ' + my_api_token}"
   ]
  },
  {
   "cell_type": "code",
   "execution_count": 9,
   "metadata": {},
   "outputs": [],
   "source": [
    "client_id = \"\""
   ]
  },
  {
   "cell_type": "code",
   "execution_count": 11,
   "metadata": {},
   "outputs": [],
   "source": [
    "#Volume Savings via GP2 to GP3 Upgrade "
   ]
  },
  {
   "cell_type": "code",
   "execution_count": 12,
   "metadata": {},
   "outputs": [
    {
     "name": "stdout",
     "output_type": "stream",
     "text": [
      "Customer: Innocean Worldwide Americas\n",
      "Number of attached gp2 volumes: 25\n",
      "Monthly savings by converting to gp3: $61.08\n",
      "Largest Volume: 250 GB\n"
     ]
    }
   ],
   "source": [
    "response = requests.get(\"https://chapi.cloudhealthtech.com/api/search?&api_version=2&client_api_id=\" + client_id + \"&name=AwsVolume&query=volume_type='gp2'+and+is_active=1&fields=volume_type,size,name,price_per_month,in_use,account.name\", headers=my_headers)\n",
    "\n",
    "#Converts JSON to a list of dictionaries with the information of every active volume \n",
    "volumes = json.loads(response.text)\n",
    "\n",
    "#Obtain customer name \n",
    "customer = volumes[0]['account']['name'].split('-')[0].strip()\n",
    "\n",
    "#Initialize gp2 count and cost\n",
    "attached_gp2_volumes = 0\n",
    "cost_of_volumes = 0\n",
    "\n",
    "#Only count if volume is attached and sum monthly costs of attached volumes \n",
    "for volume in volumes:\n",
    "    if volume[\"in_use\"]:\n",
    "        attached_gp2_volumes += 1\n",
    "        cost_of_volumes += float(volume[\"price_per_month\"][1:])\n",
    "\n",
    "#Convert volume cost to savings (20% for gp2 to gp3 converion), print results \n",
    "savings = round(0.2 * cost_of_volumes, 2)\n",
    "\n",
    "#Find largest volume \n",
    "sizeList = [volume['size'] for volume in volumes]\n",
    "largest = max(sizeList)\n",
    "\n",
    "#Print analysis\n",
    "print(f\"Customer: {customer}\")\n",
    "print(f'Number of attached gp2 volumes: {attached_gp2_volumes}')\n",
    "print(f'Monthly savings by converting to gp3: ${savings}')\n",
    "print(f'Largest Volume: {largest} GB')\n"
   ]
  },
  {
   "cell_type": "code",
   "execution_count": 14,
   "metadata": {},
   "outputs": [],
   "source": [
    "#Snapshot Summary"
   ]
  },
  {
   "cell_type": "code",
   "execution_count": 17,
   "metadata": {},
   "outputs": [
    {
     "name": "stdout",
     "output_type": "stream",
     "text": [
      "Customer: Innocean Worldwide Americas\n",
      "120 snapshots\n",
      "Average Age: 177 days\n",
      "20% created before 2021 (24 snapshots)\n",
      "Oldest Snapshot: 2017-12-13\n",
      "Largest Snapshot: 100 GB\n"
     ]
    }
   ],
   "source": [
    "response = requests.get(\"https://chapi.cloudhealthtech.com/api/search?&api_version=2&client_api_id=\" + client_id + \"&name=AwsSnapshot&query=is_active=1&fields=name,size,create_date,account.name\", headers=my_headers)\n",
    "\n",
    "#Converts JSON to a list of dictionaries with the information of every active snapshots \n",
    "snapshots = json.loads(response.text)\n",
    "\n",
    "#Obtain customer name \n",
    "customer = snapshots[0]['account']['name'].split('-')[0].strip()\n",
    "\n",
    "#Initialize counter for number of snapshots created before 2021\n",
    "before2021 = 0\n",
    "\n",
    "#Create new key:value pair for the age of each snapshot based on today's date \n",
    "for snapshot in snapshots:\n",
    "    snapshot['age'] = (datetime.date.today() - datetime.datetime.strptime(snapshot['create_date'], '%Y-%m-%dT%H:%M:%SZ').date()).days\n",
    "    if (datetime.datetime.strptime(snapshot['create_date'], '%Y-%m-%dT%H:%M:%SZ').year < 2021):\n",
    "        before2021 += 1\n",
    "    \n",
    "#Find total number of snapshots, average age of snapshots, and % created before 2021\n",
    "totalSnapshots = len(snapshots)\n",
    "averageAge = int(sum(snapshot['age'] for snapshot in snapshots) / totalSnapshots)\n",
    "percentBefore2021 = int((before2021/totalSnapshots)*100)\n",
    "\n",
    "#Find oldest snapshot \n",
    "ageList = [snapshot['age'] for snapshot in snapshots]\n",
    "oldest = max(ageList)\n",
    "oldestIndex = ageList.index(oldest)\n",
    "oldestSnapshot = datetime.datetime.strptime(snapshots[oldestIndex]['create_date'], '%Y-%m-%dT%H:%M:%SZ').date()\n",
    "\n",
    "#Find largest snapshot\n",
    "sizeList = [snapshot['size'] for snapshot in snapshots]\n",
    "largest = max(sizeList)\n",
    "\n",
    "#Print analysis\n",
    "print(f\"Customer: {customer}\")\n",
    "print(f'{totalSnapshots} snapshots')\n",
    "print(f'Average Age: {averageAge} days')\n",
    "print(f'{percentBefore2021}% created before 2021 ({before2021} snapshots)')\n",
    "print(f'Oldest Snapshot: {oldestSnapshot}')\n",
    "print(f'Largest Snapshot: {largest} GB')"
   ]
  },
  {
   "cell_type": "code",
   "execution_count": 18,
   "metadata": {},
   "outputs": [],
   "source": [
    "#Summary of Past Three Months Costs"
   ]
  },
  {
   "cell_type": "code",
   "execution_count": 19,
   "metadata": {},
   "outputs": [],
   "source": [
    "response = requests.get(\"https://chapi.cloudhealthtech.com/olap_reports/cost/history?&api_version=2&client_api_id=\" + client_id + \"&dimensions[]=time&dimensions[]=AWS-Service-Category&measure[]=cost&interval=monthly&filters[]=time:select:-2,-3,-4\", headers=my_headers)\n",
    "\n",
    "#Converts JSON to a list of dictionaries, initialize nested list to hold service items and past three months of data \n",
    "service_items = json.loads(response.text)\n",
    "data = [[], [], [], []]\n",
    "\n",
    "#Get previous three month labels\n",
    "lastMonth = date.today().replace(day=1) - timedelta(days=1)\n",
    "twoMonths = lastMonth.replace(day=1) - timedelta(days=1)\n",
    "threeMonths = twoMonths.replace(day=1) - timedelta(days=1)\n",
    "\n",
    "#Initalize labels for data \n",
    "labels = ['Service Items', threeMonths.strftime(\"%m-%Y\"), twoMonths.strftime(\"%m-%Y\"), lastMonth.strftime(\"%m-%Y\")]\n",
    "\n",
    "#Fill in data with service items, note that this pulls Direct listings (i.e. EC2 direct is the sum of all associated EC2 charges), \n",
    "# could remove with parent: -1 with exceptions for services with no children (workspace)\n",
    "iterate = 0\n",
    "for item in service_items['dimensions'][1]['AWS-Service-Category']:\n",
    "    data[0].append(item['label'])\n",
    "    iterate += 1\n",
    "\n",
    "#Fill in data with costs from past three months \n",
    "for i in range(10, 13):\n",
    "    for item in service_items['data'][i]:\n",
    "        data[i-9].append(item[0])\n",
    "\n",
    "#Convert nested list data into a dictionary and then into a dataframe \n",
    "dictionary = dict(zip(labels, data))\n",
    "df = pd.DataFrame(data=dictionary)\n",
    "\n",
    "#Create column with % change from previous month and the month before\n",
    "df['Monthly % Change'] = ((df[twoMonths.strftime(\"%m-%Y\")] - df[lastMonth.strftime(\"%m-%Y\")])/df[twoMonths.strftime(\"%m-%Y\")])*100\n",
    "\n",
    "#Create file name based on customer id and date, sort the dataframe by previous month's costs and export to csv\n",
    "name = client_id + \"_\" + date.today().strftime('%Y-%m-%d') + \"cost_history\"\n",
    "filename = \"%s.csv\" % name\n",
    "sorted_df = df.sort_values(by=[lastMonth.strftime(\"%m-%Y\")], ascending=False)\n",
    "sorted_df.to_csv(filename, index=False)"
   ]
  },
  {
   "cell_type": "code",
   "execution_count": 22,
   "metadata": {},
   "outputs": [],
   "source": [
    "#S3 Bucket Summary"
   ]
  },
  {
   "cell_type": "code",
   "execution_count": 23,
   "metadata": {},
   "outputs": [],
   "source": [
    "response = requests.get(\"https://chapi.cloudhealthtech.com/olap_reports/cost/s3?&api_version=2&client_api_id=\" + client_id + \"&dimensions[]=time&dimensions[]=S3-Bucket&measure[]=s3_cost_storage&interval=monthly&filters[]=time:select:-1, -2, -3\", headers=my_headers)\n",
    "\n",
    "#Converts JSON to a list of dictionaries, initialize nested list to s3 buckets and their previous month's costs \n",
    "buckets = json.loads(response.text)\n",
    "data = [[], [], [], []]\n",
    "\n",
    "#Get previous three month labels\n",
    "lastMonth = date.today().replace(day=1) - timedelta(days=1)\n",
    "twoMonths = lastMonth.replace(day=1) - timedelta(days=1)\n",
    "threeMonths = twoMonths.replace(day=1) - timedelta(days=1)\n",
    "\n",
    "#Initalize labels for data \n",
    "labels = ['Service Items', threeMonths.strftime(\"%m-%Y\"), twoMonths.strftime(\"%m-%Y\"), lastMonth.strftime(\"%m-%Y\")]\n",
    "\n",
    "#Fill in data with service items, note that this pulls Direct listings (i.e. EC2 direct is the sum of all associated EC2 charges), \n",
    "# could remove with parent: -1 with exceptions for services with no children (workspace)\n",
    "iterate = 0\n",
    "for item in buckets['dimensions'][1]['S3-Bucket']:\n",
    "    data[0].append(item['label'])\n",
    "    iterate += 1\n",
    "\n",
    "#Fill in data with costs from past three months \n",
    "for i in range(10, 13):\n",
    "    for item in buckets['data'][i]:\n",
    "        data[i-9].append(item[0])\n",
    "\n",
    "#Convert nested list data into a dictionary and then into a dataframe \n",
    "dictionary = dict(zip(labels, data))\n",
    "df = pd.DataFrame(data=dictionary)\n",
    "\n",
    "#Create column with % change from previous month and the month before\n",
    "df['Monthly % Change'] = ((df[twoMonths.strftime(\"%m-%Y\")] - df[lastMonth.strftime(\"%m-%Y\")])/df[twoMonths.strftime(\"%m-%Y\")])*100\n",
    "\n",
    "#Create file name based on customer id and date, sort the dataframe by previous month's costs and export to csv\n",
    "name = client_id + \"_\" + date.today().strftime('%Y-%m-%d') + \"_s3\"\n",
    "filename = \"%s.csv\" % name\n",
    "sorted_df = df.sort_values(by=[lastMonth.strftime(\"%m-%Y\")], ascending=False)\n",
    "sorted_df.to_csv(filename, index=False)"
   ]
  },
  {
   "cell_type": "code",
   "execution_count": null,
   "metadata": {},
   "outputs": [],
   "source": []
  }
 ],
 "metadata": {
  "kernelspec": {
   "display_name": "Python 3",
   "language": "python",
   "name": "python3"
  },
  "language_info": {
   "codemirror_mode": {
    "name": "ipython",
    "version": 3
   },
   "file_extension": ".py",
   "mimetype": "text/x-python",
   "name": "python",
   "nbconvert_exporter": "python",
   "pygments_lexer": "ipython3",
   "version": "3.6.13"
  }
 },
 "nbformat": 4,
 "nbformat_minor": 2
}
